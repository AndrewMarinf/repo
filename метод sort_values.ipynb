{
 "cells": [
  {
   "cell_type": "code",
   "execution_count": 7,
   "id": "65ee0c54",
   "metadata": {},
   "outputs": [],
   "source": [
    "import pandas as pd \n",
    "from random import randint"
   ]
  },
  {
   "cell_type": "code",
   "execution_count": 8,
   "id": "db3a9209",
   "metadata": {},
   "outputs": [],
   "source": [
    "numbers = [randint(-50,50) for i in range(15)]"
   ]
  },
  {
   "cell_type": "code",
   "execution_count": 11,
   "id": "03598f20",
   "metadata": {},
   "outputs": [],
   "source": [
    "s = pd.Series(numbers)"
   ]
  },
  {
   "cell_type": "code",
   "execution_count": 12,
   "id": "6301a19d",
   "metadata": {},
   "outputs": [
    {
     "data": {
      "text/plain": [
       "[-5, -47, -18, -4, 38, 32, 43, -20, 18, 6, -24, 47, 9, -42, -37]"
      ]
     },
     "execution_count": 12,
     "metadata": {},
     "output_type": "execute_result"
    }
   ],
   "source": [
    "numbers"
   ]
  },
  {
   "cell_type": "code",
   "execution_count": 13,
   "id": "6bdfd367",
   "metadata": {},
   "outputs": [
    {
     "data": {
      "text/plain": [
       "0     -5\n",
       "1    -47\n",
       "2    -18\n",
       "3     -4\n",
       "4     38\n",
       "5     32\n",
       "6     43\n",
       "7    -20\n",
       "8     18\n",
       "9      6\n",
       "10   -24\n",
       "11    47\n",
       "12     9\n",
       "13   -42\n",
       "14   -37\n",
       "dtype: int64"
      ]
     },
     "execution_count": 13,
     "metadata": {},
     "output_type": "execute_result"
    }
   ],
   "source": [
    "s"
   ]
  },
  {
   "cell_type": "code",
   "execution_count": 14,
   "id": "53140b1b",
   "metadata": {},
   "outputs": [
    {
     "data": {
      "text/plain": [
       "1    -47\n",
       "13   -42\n",
       "14   -37\n",
       "10   -24\n",
       "7    -20\n",
       "2    -18\n",
       "0     -5\n",
       "3     -4\n",
       "9      6\n",
       "12     9\n",
       "8     18\n",
       "5     32\n",
       "4     38\n",
       "6     43\n",
       "11    47\n",
       "dtype: int64"
      ]
     },
     "execution_count": 14,
     "metadata": {},
     "output_type": "execute_result"
    }
   ],
   "source": [
    "s.sort_values() # возращает новую серию, старая осталась без изменений"
   ]
  }
 ],
 "metadata": {
  "kernelspec": {
   "display_name": "Python 3 (ipykernel)",
   "language": "python",
   "name": "python3"
  },
  "language_info": {
   "codemirror_mode": {
    "name": "ipython",
    "version": 3
   },
   "file_extension": ".py",
   "mimetype": "text/x-python",
   "name": "python",
   "nbconvert_exporter": "python",
   "pygments_lexer": "ipython3",
   "version": "3.11.5"
  }
 },
 "nbformat": 4,
 "nbformat_minor": 5
}
