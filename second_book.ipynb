{
 "cells": [
  {
   "cell_type": "code",
   "execution_count": 4,
   "id": "960cc9e7",
   "metadata": {},
   "outputs": [],
   "source": [
    "import pandas as pd"
   ]
  },
  {
   "cell_type": "code",
   "execution_count": 12,
   "id": "e880a27e",
   "metadata": {},
   "outputs": [
    {
     "data": {
      "text/plain": [
       "0    54\n",
       "1     6\n",
       "2     7\n",
       "3     3\n",
       "dtype: int64"
      ]
     },
     "execution_count": 12,
     "metadata": {},
     "output_type": "execute_result"
    }
   ],
   "source": [
    "a = [54,6,7,3]\n",
    "pd.Series(a)\n"
   ]
  },
  {
   "cell_type": "code",
   "execution_count": 21,
   "id": "2cc4154b",
   "metadata": {},
   "outputs": [
    {
     "data": {
      "text/plain": [
       "привет    hello\n",
       "мир       world\n",
       "dtype: object"
      ]
     },
     "execution_count": 21,
     "metadata": {},
     "output_type": "execute_result"
    }
   ],
   "source": [
    "d = {'привет': 'hello' , 'мир': 'world'}\n",
    "pd.Series(d)\n"
   ]
  },
  {
   "cell_type": "code",
   "execution_count": 25,
   "id": "48b6707e",
   "metadata": {},
   "outputs": [
    {
     "data": {
      "text/plain": [
       "0    w\n",
       "1    o\n",
       "2    r\n",
       "3    l\n",
       "4    d\n",
       "dtype: object"
      ]
     },
     "execution_count": 25,
     "metadata": {},
     "output_type": "execute_result"
    }
   ],
   "source": [
    "st = (list('world'))\n",
    "pd.Series(st)"
   ]
  },
  {
   "cell_type": "code",
   "execution_count": null,
   "id": "b5c88028",
   "metadata": {},
   "outputs": [],
   "source": []
  }
 ],
 "metadata": {
  "kernelspec": {
   "display_name": "Python 3 (ipykernel)",
   "language": "python",
   "name": "python3"
  },
  "language_info": {
   "codemirror_mode": {
    "name": "ipython",
    "version": 3
   },
   "file_extension": ".py",
   "mimetype": "text/x-python",
   "name": "python",
   "nbconvert_exporter": "python",
   "pygments_lexer": "ipython3",
   "version": "3.11.5"
  }
 },
 "nbformat": 4,
 "nbformat_minor": 5
}
