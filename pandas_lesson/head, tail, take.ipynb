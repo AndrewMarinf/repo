{
 "cells": [
  {
   "cell_type": "code",
   "execution_count": 1,
   "id": "87135734",
   "metadata": {},
   "outputs": [],
   "source": [
    "import pandas as pd\n",
    "from random import randint"
   ]
  },
  {
   "cell_type": "code",
   "execution_count": 2,
   "id": "1406e391",
   "metadata": {},
   "outputs": [],
   "source": [
    "numbers = [randint(-50,50) for i in range(70)]"
   ]
  },
  {
   "cell_type": "code",
   "execution_count": 3,
   "id": "e69eeba7",
   "metadata": {},
   "outputs": [],
   "source": [
    "s = pd.Series(numbers)"
   ]
  },
  {
   "cell_type": "code",
   "execution_count": 4,
   "id": "8d646da3",
   "metadata": {},
   "outputs": [
    {
     "data": {
      "text/plain": [
       "0    -36\n",
       "1    -42\n",
       "2    -24\n",
       "3    -45\n",
       "4     29\n",
       "      ..\n",
       "65    17\n",
       "66   -49\n",
       "67    25\n",
       "68    50\n",
       "69   -15\n",
       "Length: 70, dtype: int64"
      ]
     },
     "execution_count": 4,
     "metadata": {},
     "output_type": "execute_result"
    }
   ],
   "source": [
    "s"
   ]
  },
  {
   "cell_type": "code",
   "execution_count": 7,
   "id": "e4e73912",
   "metadata": {},
   "outputs": [
    {
     "data": {
      "text/plain": [
       "<bound method NDFrame.head of 0    -36\n",
       "1    -42\n",
       "2    -24\n",
       "3    -45\n",
       "4     29\n",
       "      ..\n",
       "65    17\n",
       "66   -49\n",
       "67    25\n",
       "68    50\n",
       "69   -15\n",
       "Length: 70, dtype: int64>"
      ]
     },
     "execution_count": 7,
     "metadata": {},
     "output_type": "execute_result"
    }
   ],
   "source": [
    "s.head"
   ]
  },
  {
   "cell_type": "code",
   "execution_count": null,
   "id": "c5898cab",
   "metadata": {},
   "outputs": [],
   "source": []
  },
  {
   "cell_type": "code",
   "execution_count": null,
   "id": "82f1e66f",
   "metadata": {},
   "outputs": [],
   "source": []
  }
 ],
 "metadata": {
  "kernelspec": {
   "display_name": "Python 3 (ipykernel)",
   "language": "python",
   "name": "python3"
  },
  "language_info": {
   "codemirror_mode": {
    "name": "ipython",
    "version": 3
   },
   "file_extension": ".py",
   "mimetype": "text/x-python",
   "name": "python",
   "nbconvert_exporter": "python",
   "pygments_lexer": "ipython3",
   "version": "3.11.5"
  }
 },
 "nbformat": 4,
 "nbformat_minor": 5
}
