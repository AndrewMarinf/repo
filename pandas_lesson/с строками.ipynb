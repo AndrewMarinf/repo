{
 "cells": [
  {
   "cell_type": "code",
   "execution_count": null,
   "id": "4462daeb",
   "metadata": {},
   "outputs": [],
   "source": [
    "pip install pandas"
   ]
  },
  {
   "cell_type": "code",
   "execution_count": 1,
   "id": "8854cfdb",
   "metadata": {},
   "outputs": [
    {
     "ename": "ModuleNotFoundError",
     "evalue": "No module named 'faker'",
     "output_type": "error",
     "traceback": [
      "\u001b[1;31m---------------------------------------------------------------------------\u001b[0m",
      "\u001b[1;31mModuleNotFoundError\u001b[0m                       Traceback (most recent call last)",
      "Cell \u001b[1;32mIn[1], line 3\u001b[0m\n\u001b[0;32m      1\u001b[0m \u001b[38;5;28;01mimport\u001b[39;00m \u001b[38;5;21;01mpandas\u001b[39;00m \u001b[38;5;28;01mas\u001b[39;00m \u001b[38;5;21;01mpd\u001b[39;00m\n\u001b[0;32m      2\u001b[0m \u001b[38;5;28;01mfrom\u001b[39;00m \u001b[38;5;21;01mrandom\u001b[39;00m \u001b[38;5;28;01mimport\u001b[39;00m randint\n\u001b[1;32m----> 3\u001b[0m \u001b[38;5;28;01mfrom\u001b[39;00m \u001b[38;5;21;01mfaker\u001b[39;00m \u001b[38;5;28;01mimport\u001b[39;00m Faker \u001b[38;5;66;03m# библиотека с рандомнами именами\u001b[39;00m\n",
      "\u001b[1;31mModuleNotFoundError\u001b[0m: No module named 'faker'"
     ]
    }
   ],
   "source": [
    "import pandas as pd\n",
    "from random import randint\n",
    "from faker import Faker # библиотека с рандомнами именами"
   ]
  },
  {
   "cell_type": "code",
   "execution_count": null,
   "id": "e7e598f9",
   "metadata": {},
   "outputs": [],
   "source": [
    "fake = Faker()\n",
    "numbers = [randint(-50,50) for i in range(15)]\n",
    "names = [fake.name() for i in range(15)]"
   ]
  },
  {
   "cell_type": "code",
   "execution_count": null,
   "id": "0bb7f761",
   "metadata": {},
   "outputs": [],
   "source": [
    "a = pd.Series(names)"
   ]
  },
  {
   "cell_type": "code",
   "execution_count": null,
   "id": "5e36b297",
   "metadata": {},
   "outputs": [
    {
     "data": {
      "text/plain": [
       "['Victoria George',\n",
       " 'Lisa James',\n",
       " 'Jessica Mills',\n",
       " 'Matthew Rodriguez',\n",
       " 'Wendy Davis',\n",
       " 'Teresa Brooks PhD',\n",
       " 'Tyler Bell',\n",
       " 'Sandra Ramos',\n",
       " 'Jenny Mcbride',\n",
       " 'Ashley Cunningham',\n",
       " 'Jill Wiley',\n",
       " 'Ryan Jones',\n",
       " 'Tiffany Johnson',\n",
       " 'Joseph Schultz',\n",
       " 'Tony Tyler']"
      ]
     },
     "execution_count": 14,
     "metadata": {},
     "output_type": "execute_result"
    }
   ],
   "source": [
    "names"
   ]
  },
  {
   "cell_type": "code",
   "execution_count": null,
   "id": "71b93af9",
   "metadata": {},
   "outputs": [],
   "source": [
    "n = pd.Series(numbers, index = names)"
   ]
  },
  {
   "cell_type": "code",
   "execution_count": null,
   "id": "732d3425",
   "metadata": {},
   "outputs": [
    {
     "data": {
      "text/plain": [
       "Victoria George      18\n",
       "Lisa James          -35\n",
       "Jessica Mills       -11\n",
       "Matthew Rodriguez   -50\n",
       "Wendy Davis          -9\n",
       "Teresa Brooks PhD    22\n",
       "Tyler Bell           -6\n",
       "Sandra Ramos        -38\n",
       "Jenny Mcbride        -5\n",
       "Ashley Cunningham    49\n",
       "Jill Wiley           43\n",
       "Ryan Jones          -12\n",
       "Tiffany Johnson      17\n",
       "Joseph Schultz       12\n",
       "Tony Tyler           31\n",
       "dtype: int64"
      ]
     },
     "execution_count": 20,
     "metadata": {},
     "output_type": "execute_result"
    }
   ],
   "source": [
    "n"
   ]
  },
  {
   "cell_type": "code",
   "execution_count": null,
   "id": "46787f85",
   "metadata": {},
   "outputs": [
    {
     "data": {
      "text/plain": [
       "Ashley Cunningham    49\n",
       "Jenny Mcbride        -5\n",
       "Jessica Mills       -11\n",
       "Jill Wiley           43\n",
       "Joseph Schultz       12\n",
       "Lisa James          -35\n",
       "Matthew Rodriguez   -50\n",
       "Ryan Jones          -12\n",
       "Sandra Ramos        -38\n",
       "Teresa Brooks PhD    22\n",
       "Tiffany Johnson      17\n",
       "Tony Tyler           31\n",
       "Tyler Bell           -6\n",
       "Victoria George      18\n",
       "Wendy Davis          -9\n",
       "dtype: int64"
      ]
     },
     "execution_count": 21,
     "metadata": {},
     "output_type": "execute_result"
    }
   ],
   "source": [
    "n.sort_index()"
   ]
  },
  {
   "cell_type": "code",
   "execution_count": null,
   "id": "c1fb2264",
   "metadata": {},
   "outputs": [],
   "source": []
  }
 ],
 "metadata": {
  "kernelspec": {
   "display_name": "Python 3 (ipykernel)",
   "language": "python",
   "name": "python3"
  },
  "language_info": {
   "codemirror_mode": {
    "name": "ipython",
    "version": 3
   },
   "file_extension": ".py",
   "mimetype": "text/x-python",
   "name": "python",
   "nbconvert_exporter": "python",
   "pygments_lexer": "ipython3",
   "version": "3.11.5"
  }
 },
 "nbformat": 4,
 "nbformat_minor": 5
}
