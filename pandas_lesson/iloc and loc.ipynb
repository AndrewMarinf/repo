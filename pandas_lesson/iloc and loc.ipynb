{
 "cells": [
  {
   "cell_type": "code",
   "execution_count": 2,
   "id": "87173d8a",
   "metadata": {},
   "outputs": [],
   "source": [
    "import pandas as pd\n",
    "from random import randint,choice"
   ]
  },
  {
   "cell_type": "code",
   "execution_count": 3,
   "id": "fc233072",
   "metadata": {},
   "outputs": [],
   "source": [
    "nums = [randint(-50,50) for i in range(10)]\n",
    "indexes = [choice([0,1,2,3]) for i in range(10)]"
   ]
  },
  {
   "cell_type": "code",
   "execution_count": 7,
   "id": "25967cbf",
   "metadata": {},
   "outputs": [],
   "source": [
    "s = pd.Series(nums)\n",
    "s_not_uniques = pd.Series(nums,indexes)"
   ]
  },
  {
   "cell_type": "code",
   "execution_count": 5,
   "id": "586c2bba",
   "metadata": {},
   "outputs": [
    {
     "data": {
      "text/plain": [
       "0    42\n",
       "1    14\n",
       "2    49\n",
       "3    46\n",
       "4    22\n",
       "5    46\n",
       "6   -27\n",
       "7   -31\n",
       "8     6\n",
       "9   -40\n",
       "dtype: int64"
      ]
     },
     "execution_count": 5,
     "metadata": {},
     "output_type": "execute_result"
    }
   ],
   "source": [
    "s"
   ]
  },
  {
   "cell_type": "code",
   "execution_count": 6,
   "id": "52e4876e",
   "metadata": {},
   "outputs": [
    {
     "data": {
      "text/plain": [
       "[3, 3, 3, 1, 2, 3, 1, 0, 1, 3]"
      ]
     },
     "execution_count": 6,
     "metadata": {},
     "output_type": "execute_result"
    }
   ],
   "source": [
    "indexes`"
   ]
  },
  {
   "cell_type": "code",
   "execution_count": 9,
   "id": "ba86a799",
   "metadata": {},
   "outputs": [
    {
     "data": {
      "text/plain": [
       "14"
      ]
     },
     "execution_count": 9,
     "metadata": {},
     "output_type": "execute_result"
    }
   ],
   "source": [
    "s_not_uniques.iloc[1] #тут одно значение занчит больше [[]]"
   ]
  },
  {
   "cell_type": "code",
   "execution_count": 13,
   "id": "58f7d775",
   "metadata": {},
   "outputs": [
    {
     "data": {
      "text/plain": [
       "3    14\n",
       "3    49\n",
       "dtype: int64"
      ]
     },
     "execution_count": 13,
     "metadata": {},
     "output_type": "execute_result"
    }
   ],
   "source": [
    "s_not_uniques.iloc[[1,2]] #тут одно значение занчит один раз [] "
   ]
  },
  {
   "cell_type": "code",
   "execution_count": 14,
   "id": "5ab1e6b8",
   "metadata": {},
   "outputs": [
    {
     "data": {
      "text/plain": [
       "3    42\n",
       "3    14\n",
       "3    49\n",
       "3    46\n",
       "3   -40\n",
       "dtype: int64"
      ]
     },
     "execution_count": 14,
     "metadata": {},
     "output_type": "execute_result"
    }
   ],
   "source": [
    "s_not_uniques.loc[3] # loc выведет по меткам 3"
   ]
  },
  {
   "cell_type": "code",
   "execution_count": 16,
   "id": "3fb8d426",
   "metadata": {},
   "outputs": [
    {
     "data": {
      "text/plain": [
       "3    42\n",
       "3    14\n",
       "3    49\n",
       "3    46\n",
       "3   -40\n",
       "1    46\n",
       "1   -27\n",
       "1     6\n",
       "dtype: int64"
      ]
     },
     "execution_count": 16,
     "metadata": {},
     "output_type": "execute_result"
    }
   ],
   "source": [
    "s_not_uniques.loc[[3,1]] # loc выведет по меткам 3 and 1"
   ]
  },
  {
   "cell_type": "code",
   "execution_count": 17,
   "id": "ac3c653f",
   "metadata": {},
   "outputs": [],
   "source": [
    "s_not_uniques.loc[[3]] = 30 # изменили все метки 3 на 30"
   ]
  },
  {
   "cell_type": "code",
   "execution_count": 18,
   "id": "75b39ecf",
   "metadata": {},
   "outputs": [
    {
     "data": {
      "text/plain": [
       "3    30\n",
       "3    30\n",
       "3    30\n",
       "1    46\n",
       "2    22\n",
       "3    30\n",
       "1   -27\n",
       "0   -31\n",
       "1     6\n",
       "3    30\n",
       "dtype: int64"
      ]
     },
     "execution_count": 18,
     "metadata": {},
     "output_type": "execute_result"
    }
   ],
   "source": [
    "s_not_uniques"
   ]
  },
  {
   "cell_type": "code",
   "execution_count": 19,
   "id": "c6b09a53",
   "metadata": {},
   "outputs": [],
   "source": [
    "s_not_uniques.loc[[3,1]] = 15 # loc выведет по меткам 3 and 1"
   ]
  },
  {
   "cell_type": "code",
   "execution_count": 20,
   "id": "06d04bcb",
   "metadata": {},
   "outputs": [
    {
     "data": {
      "text/plain": [
       "3    15\n",
       "3    15\n",
       "3    15\n",
       "1    15\n",
       "2    22\n",
       "3    15\n",
       "1    15\n",
       "0   -31\n",
       "1    15\n",
       "3    15\n",
       "dtype: int64"
      ]
     },
     "execution_count": 20,
     "metadata": {},
     "output_type": "execute_result"
    }
   ],
   "source": [
    "s_not_uniques"
   ]
  },
  {
   "cell_type": "code",
   "execution_count": null,
   "id": "66ced73d",
   "metadata": {},
   "outputs": [],
   "source": []
  }
 ],
 "metadata": {
  "kernelspec": {
   "display_name": "Python 3 (ipykernel)",
   "language": "python",
   "name": "python3"
  },
  "language_info": {
   "codemirror_mode": {
    "name": "ipython",
    "version": 3
   },
   "file_extension": ".py",
   "mimetype": "text/x-python",
   "name": "python",
   "nbconvert_exporter": "python",
   "pygments_lexer": "ipython3",
   "version": "3.11.5"
  }
 },
 "nbformat": 4,
 "nbformat_minor": 5
}
