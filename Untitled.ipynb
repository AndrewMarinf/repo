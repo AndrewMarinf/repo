{
 "cells": [
  {
   "cell_type": "code",
   "execution_count": 7,
   "id": "3677be91",
   "metadata": {},
   "outputs": [
    {
     "name": "stdout",
     "output_type": "stream",
     "text": [
      "Collecting faker\n",
      "  Obtaining dependency information for faker from https://files.pythonhosted.org/packages/cc/9a/74db0cf3115df2f71edcaf8d86ed556195ac31575212c20425820f81bfd0/Faker-20.1.0-py3-none-any.whl.metadata\n",
      "  Downloading Faker-20.1.0-py3-none-any.whl.metadata (15 kB)\n",
      "Requirement already satisfied: python-dateutil>=2.4 in c:\\users\\marin\\appdata\\roaming\\python\\python311\\site-packages (from faker) (2.8.2)\n",
      "Requirement already satisfied: six>=1.5 in c:\\users\\marin\\appdata\\roaming\\python\\python311\\site-packages (from python-dateutil>=2.4->faker) (1.16.0)\n",
      "Downloading Faker-20.1.0-py3-none-any.whl (1.7 MB)\n",
      "   ---------------------------------------- 0.0/1.7 MB ? eta -:--:--\n",
      "   ---------------------------------------- 0.0/1.7 MB ? eta -:--:--\n",
      "    --------------------------------------- 0.0/1.7 MB 435.7 kB/s eta 0:00:04\n",
      "   - -------------------------------------- 0.1/1.7 MB 563.7 kB/s eta 0:00:03\n",
      "   --- ------------------------------------ 0.2/1.7 MB 1.0 MB/s eta 0:00:02\n",
      "   ------ --------------------------------- 0.3/1.7 MB 1.5 MB/s eta 0:00:01\n",
      "   ---------- ----------------------------- 0.5/1.7 MB 2.1 MB/s eta 0:00:01\n",
      "   ---------------- ----------------------- 0.7/1.7 MB 2.7 MB/s eta 0:00:01\n",
      "   ----------------------- ---------------- 1.0/1.7 MB 3.4 MB/s eta 0:00:01\n",
      "   -------------------------- ------------- 1.1/1.7 MB 3.3 MB/s eta 0:00:01\n",
      "   ------------------------------- -------- 1.4/1.7 MB 3.6 MB/s eta 0:00:01\n",
      "   ---------------------------------------  1.7/1.7 MB 3.9 MB/s eta 0:00:01\n",
      "   ---------------------------------------- 1.7/1.7 MB 3.8 MB/s eta 0:00:00\n",
      "Installing collected packages: faker\n",
      "Successfully installed faker-20.1.0\n",
      "Note: you may need to restart the kernel to use updated packages.\n"
     ]
    }
   ],
   "source": [
    "pip install faker"
   ]
  },
  {
   "cell_type": "code",
   "execution_count": 8,
   "id": "8854cfdb",
   "metadata": {},
   "outputs": [],
   "source": [
    "import pandas as pd\n",
    "from random import randint\n",
    "from faker import Faker # библиотека с рандомнами именами"
   ]
  },
  {
   "cell_type": "code",
   "execution_count": 10,
   "id": "e7e598f9",
   "metadata": {},
   "outputs": [],
   "source": [
    "fake = Faker()\n",
    "numbers = [randint(-50,50) for i in range(15)]\n",
    "names = [fake.name() for i in range(15)]"
   ]
  },
  {
   "cell_type": "code",
   "execution_count": 13,
   "id": "0bb7f761",
   "metadata": {},
   "outputs": [],
   "source": [
    "a = pd.Series(names)"
   ]
  },
  {
   "cell_type": "code",
   "execution_count": 14,
   "id": "5e36b297",
   "metadata": {},
   "outputs": [
    {
     "data": {
      "text/plain": [
       "['Victoria George',\n",
       " 'Lisa James',\n",
       " 'Jessica Mills',\n",
       " 'Matthew Rodriguez',\n",
       " 'Wendy Davis',\n",
       " 'Teresa Brooks PhD',\n",
       " 'Tyler Bell',\n",
       " 'Sandra Ramos',\n",
       " 'Jenny Mcbride',\n",
       " 'Ashley Cunningham',\n",
       " 'Jill Wiley',\n",
       " 'Ryan Jones',\n",
       " 'Tiffany Johnson',\n",
       " 'Joseph Schultz',\n",
       " 'Tony Tyler']"
      ]
     },
     "execution_count": 14,
     "metadata": {},
     "output_type": "execute_result"
    }
   ],
   "source": [
    "names"
   ]
  },
  {
   "cell_type": "code",
   "execution_count": 19,
   "id": "71b93af9",
   "metadata": {},
   "outputs": [],
   "source": [
    "n = pd.Series(numbers, index = names)"
   ]
  },
  {
   "cell_type": "code",
   "execution_count": 20,
   "id": "732d3425",
   "metadata": {},
   "outputs": [
    {
     "data": {
      "text/plain": [
       "Victoria George      18\n",
       "Lisa James          -35\n",
       "Jessica Mills       -11\n",
       "Matthew Rodriguez   -50\n",
       "Wendy Davis          -9\n",
       "Teresa Brooks PhD    22\n",
       "Tyler Bell           -6\n",
       "Sandra Ramos        -38\n",
       "Jenny Mcbride        -5\n",
       "Ashley Cunningham    49\n",
       "Jill Wiley           43\n",
       "Ryan Jones          -12\n",
       "Tiffany Johnson      17\n",
       "Joseph Schultz       12\n",
       "Tony Tyler           31\n",
       "dtype: int64"
      ]
     },
     "execution_count": 20,
     "metadata": {},
     "output_type": "execute_result"
    }
   ],
   "source": [
    "n"
   ]
  },
  {
   "cell_type": "code",
   "execution_count": 21,
   "id": "46787f85",
   "metadata": {},
   "outputs": [
    {
     "data": {
      "text/plain": [
       "Ashley Cunningham    49\n",
       "Jenny Mcbride        -5\n",
       "Jessica Mills       -11\n",
       "Jill Wiley           43\n",
       "Joseph Schultz       12\n",
       "Lisa James          -35\n",
       "Matthew Rodriguez   -50\n",
       "Ryan Jones          -12\n",
       "Sandra Ramos        -38\n",
       "Teresa Brooks PhD    22\n",
       "Tiffany Johnson      17\n",
       "Tony Tyler           31\n",
       "Tyler Bell           -6\n",
       "Victoria George      18\n",
       "Wendy Davis          -9\n",
       "dtype: int64"
      ]
     },
     "execution_count": 21,
     "metadata": {},
     "output_type": "execute_result"
    }
   ],
   "source": [
    "n.sort_index()"
   ]
  },
  {
   "cell_type": "code",
   "execution_count": null,
   "id": "c1fb2264",
   "metadata": {},
   "outputs": [],
   "source": []
  }
 ],
 "metadata": {
  "kernelspec": {
   "display_name": "Python 3 (ipykernel)",
   "language": "python",
   "name": "python3"
  },
  "language_info": {
   "codemirror_mode": {
    "name": "ipython",
    "version": 3
   },
   "file_extension": ".py",
   "mimetype": "text/x-python",
   "name": "python",
   "nbconvert_exporter": "python",
   "pygments_lexer": "ipython3",
   "version": "3.11.5"
  }
 },
 "nbformat": 4,
 "nbformat_minor": 5
}
